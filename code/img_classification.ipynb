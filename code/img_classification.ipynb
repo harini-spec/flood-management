{
 "cells": [
  {
   "cell_type": "code",
   "execution_count": 22,
   "metadata": {},
   "outputs": [],
   "source": [
    "import numpy as np\n",
    "import pandas as pd\n",
    "from PIL import Image\n",
    "\n",
    "from FloodImageClassifier import FloodImageClassifier\n",
    "\n",
    "from sklearn.metrics import confusion_matrix, roc_auc_score"
   ]
  },
  {
   "cell_type": "code",
   "execution_count": 23,
   "metadata": {},
   "outputs": [],
   "source": [
    "def confuse(y_true, y_pred):\n",
    "    return pd.DataFrame(\n",
    "        data = confusion_matrix(y_true, y_pred).T,\n",
    "        columns = ['real false', 'real true'],\n",
    "        index = ['pred false', 'pred true']\n",
    "    )"
   ]
  },
  {
   "cell_type": "code",
   "execution_count": 24,
   "metadata": {},
   "outputs": [],
   "source": [
    "def evl(y_true, y_pred, title):\n",
    "    matrix = confusion_matrix(y_true, y_pred).T\n",
    "    tp = matrix[1, 1]\n",
    "    tn = matrix[0, 0]\n",
    "    fp = matrix[1, 0]\n",
    "    fn = matrix[0, 1]\n",
    "    return pd.DataFrame(\n",
    "        data = {\n",
    "            'accuracy': [np.round((tp + tn) / (tp + tn + fp + fn), 3)],\n",
    "            'sensitivity': [np.round(tp / (tp + fn), 3)],\n",
    "            'specificity': [np.round(tn / (tn + fp), 3)],\n",
    "            'precision': [np.round(tp / (tp + fp), 3)],\n",
    "            'ROC AUC': [np.round(roc_auc_score(y_true, y_pred), 3)],\n",
    "        },\n",
    "        index = [title]\n",
    "    )"
   ]
  },
  {
   "cell_type": "code",
   "execution_count": 25,
   "metadata": {},
   "outputs": [
    {
     "name": "stderr",
     "output_type": "stream",
     "text": [
      "/home/harini/miniconda3/envs/ML/lib/python3.8/site-packages/sklearn/base.py:310: UserWarning: Trying to unpickle estimator LabelBinarizer from version 0.22.1 when using version 0.24.2. This might lead to breaking code or invalid results. Use at your own risk.\n",
      "  warnings.warn(\n",
      "/home/harini/miniconda3/envs/ML/lib/python3.8/site-packages/sklearn/base.py:310: UserWarning: Trying to unpickle estimator MLPClassifier from version 0.22.1 when using version 0.24.2. This might lead to breaking code or invalid results. Use at your own risk.\n",
      "  warnings.warn(\n"
     ]
    }
   ],
   "source": [
    "fic = FloodImageClassifier(\n",
    "    '../binary_images/flood_image_classifier_mlp_128_16.sav',\n",
    "    '../binary_images/images/'\n",
    ")"
   ]
  },
  {
   "cell_type": "code",
   "execution_count": 26,
   "metadata": {},
   "outputs": [],
   "source": [
    "image_file_name = 'img_7.jpg'\n",
    "img = Image.open(fic.path_to_images + image_file_name)"
   ]
  },
  {
   "cell_type": "code",
   "execution_count": 27,
   "metadata": {},
   "outputs": [
    {
     "name": "stdout",
     "output_type": "stream",
     "text": [
      "flooded\n"
     ]
    }
   ],
   "source": [
    "res = fic.predict_x(image_file_name)\n",
    "if(res == True):\n",
    "    print(\"flooded\")\n",
    "else:\n",
    "    print(\"Not flooded\")"
   ]
  },
  {
   "cell_type": "code",
   "execution_count": null,
   "metadata": {},
   "outputs": [],
   "source": []
  }
 ],
 "metadata": {
  "kernelspec": {
   "display_name": "Python 3 (ipykernel)",
   "language": "python",
   "name": "python3"
  },
  "language_info": {
   "codemirror_mode": {
    "name": "ipython",
    "version": 3
   },
   "file_extension": ".py",
   "mimetype": "text/x-python",
   "name": "python",
   "nbconvert_exporter": "python",
   "pygments_lexer": "ipython3",
   "version": "3.8.12"
  }
 },
 "nbformat": 4,
 "nbformat_minor": 4
}
